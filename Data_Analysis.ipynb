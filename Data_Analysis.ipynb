{
 "cells": [
  {
   "cell_type": "code",
   "execution_count": 1,
   "id": "7212c63e",
   "metadata": {},
   "outputs": [],
   "source": [
    "import numpy as np\n",
    "import pandas as pd"
   ]
  },
  {
   "cell_type": "code",
   "execution_count": 2,
   "id": "559f852a",
   "metadata": {},
   "outputs": [],
   "source": [
    "df = pd.read_csv('transaction_data.csv')"
   ]
  },
  {
   "cell_type": "code",
   "execution_count": 3,
   "id": "c825ebb6",
   "metadata": {},
   "outputs": [
    {
     "data": {
      "text/html": [
       "<div>\n",
       "<style scoped>\n",
       "    .dataframe tbody tr th:only-of-type {\n",
       "        vertical-align: middle;\n",
       "    }\n",
       "\n",
       "    .dataframe tbody tr th {\n",
       "        vertical-align: top;\n",
       "    }\n",
       "\n",
       "    .dataframe thead th {\n",
       "        text-align: right;\n",
       "    }\n",
       "</style>\n",
       "<table border=\"1\" class=\"dataframe\">\n",
       "  <thead>\n",
       "    <tr style=\"text-align: right;\">\n",
       "      <th></th>\n",
       "      <th>Transaction ID</th>\n",
       "      <th>TimeStamp</th>\n",
       "      <th>Amount</th>\n",
       "      <th>Customer ID</th>\n",
       "      <th>Payment Method</th>\n",
       "    </tr>\n",
       "  </thead>\n",
       "  <tbody>\n",
       "    <tr>\n",
       "      <th>1495</th>\n",
       "      <td>979765</td>\n",
       "      <td>1684024521</td>\n",
       "      <td>842.38</td>\n",
       "      <td>5316</td>\n",
       "      <td>Debit Card</td>\n",
       "    </tr>\n",
       "    <tr>\n",
       "      <th>1496</th>\n",
       "      <td>983801</td>\n",
       "      <td>1692208681</td>\n",
       "      <td>98.75</td>\n",
       "      <td>12108</td>\n",
       "      <td>PayPal</td>\n",
       "    </tr>\n",
       "    <tr>\n",
       "      <th>1497</th>\n",
       "      <td>154222</td>\n",
       "      <td>1689240063</td>\n",
       "      <td>1645.30</td>\n",
       "      <td>13727</td>\n",
       "      <td>Debit Card</td>\n",
       "    </tr>\n",
       "    <tr>\n",
       "      <th>1498</th>\n",
       "      <td>589796</td>\n",
       "      <td>1703494249</td>\n",
       "      <td>185.97</td>\n",
       "      <td>11771</td>\n",
       "      <td>Credit Card</td>\n",
       "    </tr>\n",
       "    <tr>\n",
       "      <th>1499</th>\n",
       "      <td>310815</td>\n",
       "      <td>1701625203</td>\n",
       "      <td>1499.76</td>\n",
       "      <td>7329</td>\n",
       "      <td>Debit Card</td>\n",
       "    </tr>\n",
       "  </tbody>\n",
       "</table>\n",
       "</div>"
      ],
      "text/plain": [
       "      Transaction ID   TimeStamp   Amount  Customer ID Payment Method\n",
       "1495          979765  1684024521   842.38         5316     Debit Card\n",
       "1496          983801  1692208681    98.75        12108         PayPal\n",
       "1497          154222  1689240063  1645.30        13727     Debit Card\n",
       "1498          589796  1703494249   185.97        11771    Credit Card\n",
       "1499          310815  1701625203  1499.76         7329     Debit Card"
      ]
     },
     "execution_count": 3,
     "metadata": {},
     "output_type": "execute_result"
    }
   ],
   "source": [
    "df.tail(5)"
   ]
  },
  {
   "cell_type": "code",
   "execution_count": 4,
   "id": "3bb9968f",
   "metadata": {},
   "outputs": [
    {
     "data": {
      "text/plain": [
       "1536756.3800000001"
      ]
     },
     "execution_count": 4,
     "metadata": {},
     "output_type": "execute_result"
    }
   ],
   "source": [
    "#Total revenue\n",
    "df['Amount'].sum()"
   ]
  },
  {
   "cell_type": "code",
   "execution_count": 5,
   "id": "a29882a8",
   "metadata": {},
   "outputs": [
    {
     "data": {
      "text/plain": [
       "1024.5042533333335"
      ]
     },
     "execution_count": 5,
     "metadata": {},
     "output_type": "execute_result"
    }
   ],
   "source": [
    "df['Amount'].mean()"
   ]
  },
  {
   "cell_type": "code",
   "execution_count": 6,
   "id": "66c3a3f9",
   "metadata": {},
   "outputs": [
    {
     "data": {
      "text/html": [
       "<div>\n",
       "<style scoped>\n",
       "    .dataframe tbody tr th:only-of-type {\n",
       "        vertical-align: middle;\n",
       "    }\n",
       "\n",
       "    .dataframe tbody tr th {\n",
       "        vertical-align: top;\n",
       "    }\n",
       "\n",
       "    .dataframe thead th {\n",
       "        text-align: right;\n",
       "    }\n",
       "</style>\n",
       "<table border=\"1\" class=\"dataframe\">\n",
       "  <thead>\n",
       "    <tr style=\"text-align: right;\">\n",
       "      <th></th>\n",
       "      <th>Transaction ID</th>\n",
       "      <th>TimeStamp</th>\n",
       "      <th>Amount</th>\n",
       "      <th>Customer ID</th>\n",
       "    </tr>\n",
       "  </thead>\n",
       "  <tbody>\n",
       "    <tr>\n",
       "      <th>count</th>\n",
       "      <td>1500.000000</td>\n",
       "      <td>1.500000e+03</td>\n",
       "      <td>1500.000000</td>\n",
       "      <td>1500.000000</td>\n",
       "    </tr>\n",
       "    <tr>\n",
       "      <th>mean</th>\n",
       "      <td>549292.490000</td>\n",
       "      <td>1.692630e+09</td>\n",
       "      <td>1024.504253</td>\n",
       "      <td>9484.038000</td>\n",
       "    </tr>\n",
       "    <tr>\n",
       "      <th>std</th>\n",
       "      <td>265792.347697</td>\n",
       "      <td>9.065481e+06</td>\n",
       "      <td>570.035605</td>\n",
       "      <td>2585.852554</td>\n",
       "    </tr>\n",
       "    <tr>\n",
       "      <th>min</th>\n",
       "      <td>100210.000000</td>\n",
       "      <td>1.676832e+09</td>\n",
       "      <td>20.170000</td>\n",
       "      <td>5000.000000</td>\n",
       "    </tr>\n",
       "    <tr>\n",
       "      <th>25%</th>\n",
       "      <td>315405.750000</td>\n",
       "      <td>1.684758e+09</td>\n",
       "      <td>534.787500</td>\n",
       "      <td>7252.750000</td>\n",
       "    </tr>\n",
       "    <tr>\n",
       "      <th>50%</th>\n",
       "      <td>554002.000000</td>\n",
       "      <td>1.692591e+09</td>\n",
       "      <td>1027.435000</td>\n",
       "      <td>9469.000000</td>\n",
       "    </tr>\n",
       "    <tr>\n",
       "      <th>75%</th>\n",
       "      <td>782888.750000</td>\n",
       "      <td>1.700416e+09</td>\n",
       "      <td>1508.475000</td>\n",
       "      <td>11704.000000</td>\n",
       "    </tr>\n",
       "    <tr>\n",
       "      <th>max</th>\n",
       "      <td>999261.000000</td>\n",
       "      <td>1.708362e+09</td>\n",
       "      <td>1999.930000</td>\n",
       "      <td>13999.000000</td>\n",
       "    </tr>\n",
       "  </tbody>\n",
       "</table>\n",
       "</div>"
      ],
      "text/plain": [
       "       Transaction ID     TimeStamp       Amount   Customer ID\n",
       "count     1500.000000  1.500000e+03  1500.000000   1500.000000\n",
       "mean    549292.490000  1.692630e+09  1024.504253   9484.038000\n",
       "std     265792.347697  9.065481e+06   570.035605   2585.852554\n",
       "min     100210.000000  1.676832e+09    20.170000   5000.000000\n",
       "25%     315405.750000  1.684758e+09   534.787500   7252.750000\n",
       "50%     554002.000000  1.692591e+09  1027.435000   9469.000000\n",
       "75%     782888.750000  1.700416e+09  1508.475000  11704.000000\n",
       "max     999261.000000  1.708362e+09  1999.930000  13999.000000"
      ]
     },
     "execution_count": 6,
     "metadata": {},
     "output_type": "execute_result"
    }
   ],
   "source": [
    "df.describe()"
   ]
  },
  {
   "cell_type": "code",
   "execution_count": 7,
   "id": "96bc87d5",
   "metadata": {},
   "outputs": [
    {
     "data": {
      "text/plain": [
       "<bound method hist_series of 0       1759.69\n",
       "1       1237.34\n",
       "2       1644.61\n",
       "3        923.89\n",
       "4       1192.04\n",
       "         ...   \n",
       "1495     842.38\n",
       "1496      98.75\n",
       "1497    1645.30\n",
       "1498     185.97\n",
       "1499    1499.76\n",
       "Name: Amount, Length: 1500, dtype: float64>"
      ]
     },
     "execution_count": 7,
     "metadata": {},
     "output_type": "execute_result"
    }
   ],
   "source": [
    "df['Amount'].hist"
   ]
  },
  {
   "cell_type": "code",
   "execution_count": 8,
   "id": "ea4c1379",
   "metadata": {},
   "outputs": [
    {
     "data": {
      "image/png": "[encoded data removed]",
      "text/plain": [
       "<Figure size 640x480 with 1 Axes>"
      ]
     },
     "metadata": {},
     "output_type": "display_data"
    }
   ],
   "source": [
    "import matplotlib.pyplot as plt\n",
    "\n",
    "payment_modes = df['Payment Method'].value_counts()\n",
    "\n",
    "plt.bar(payment_modes.index,payment_modes.values,color='navy')\n",
    "\n",
    "plt.xlabel('Payment Mode')\n",
    "plt.ylabel('Number of Transactions')\n",
    "plt.title('Payment Modes Distribution')\n",
    "\n",
    "for i, count in enumerate(payment_modes.values):\n",
    "    plt.text(i, count + 0.1, str(count), ha='center', va='bottom')\n",
    "    \n",
    "plt.show()"
   ]
  }
 ],
 "metadata": {
  "kernelspec": {
   "display_name": "Python 3 (ipykernel)",
   "language": "python",
   "name": "python3"
  },
  "language_info": {
   "codemirror_mode": {
    "name": "ipython",
    "version": 3
   },
   "file_extension": ".py",
   "mimetype": "text/x-python",
   "name": "python",
   "nbconvert_exporter": "python",
   "pygments_lexer": "ipython3",
   "version": "3.9.13"
  }
 },
 "nbformat": 4,
 "nbformat_minor": 5
}
