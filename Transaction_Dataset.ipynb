{
 "cells": [
  {
   "cell_type": "markdown",
   "id": "0a63aa3a",
   "metadata": {},
   "source": [
    "Creating Dataset"
   ]
  },
  {
   "cell_type": "code",
   "execution_count": 2,
   "id": "a6ddf6c6",
   "metadata": {},
   "outputs": [],
   "source": [
    "#Importing libraries\n",
    "import pandas as pd\n",
    "import time as t\n",
    "import random as rd\n",
    "import numpy as np"
   ]
  },
  {
   "cell_type": "code",
   "execution_count": 4,
   "id": "0285b2e1",
   "metadata": {},
   "outputs": [],
   "source": [
    "# Function to create the synthetic transaction data\n",
    "def generate_transaction_data(n):\n",
    "    transactions = []\n",
    "    for _ in range(n):\n",
    "        trans_id = rd.randint(100000, 999999)\n",
    "        timestamp = int(t.time()-rd.randint(0, 365 * 24 * 60 * 60))\n",
    "        amount = round(rd.uniform(20,2000),2)\n",
    "        user_id = rd.randint(5000,13999)\n",
    "        payment_method = rd.choice(['Credit Card','Debit Card','PayPal','Google Pay'])\n",
    "        transactions.append([trans_id,timestamp,amount,user_id,payment_method])\n",
    "    return transactions\n",
    "\n",
    "transaction_data = generate_transaction_data(1500)\n",
    "\n",
    "df = pd.DataFrame(transaction_data, columns = ['Transaction ID','TimeStamp','Amount','Customer ID','Payment Method'])"
   ]
  },
  {
   "cell_type": "code",
   "execution_count": 5,
   "id": "37878a8b",
   "metadata": {},
   "outputs": [
    {
     "data": {
      "text/html": [
       "<div>\n",
       "<style scoped>\n",
       "    .dataframe tbody tr th:only-of-type {\n",
       "        vertical-align: middle;\n",
       "    }\n",
       "\n",
       "    .dataframe tbody tr th {\n",
       "        vertical-align: top;\n",
       "    }\n",
       "\n",
       "    .dataframe thead th {\n",
       "        text-align: right;\n",
       "    }\n",
       "</style>\n",
       "<table border=\"1\" class=\"dataframe\">\n",
       "  <thead>\n",
       "    <tr style=\"text-align: right;\">\n",
       "      <th></th>\n",
       "      <th>Transaction ID</th>\n",
       "      <th>TimeStamp</th>\n",
       "      <th>Amount</th>\n",
       "      <th>Customer ID</th>\n",
       "      <th>Payment Method</th>\n",
       "    </tr>\n",
       "  </thead>\n",
       "  <tbody>\n",
       "    <tr>\n",
       "      <th>0</th>\n",
       "      <td>999261</td>\n",
       "      <td>1698617917</td>\n",
       "      <td>1759.69</td>\n",
       "      <td>5655</td>\n",
       "      <td>PayPal</td>\n",
       "    </tr>\n",
       "    <tr>\n",
       "      <th>1</th>\n",
       "      <td>785175</td>\n",
       "      <td>1690195733</td>\n",
       "      <td>1237.34</td>\n",
       "      <td>11738</td>\n",
       "      <td>PayPal</td>\n",
       "    </tr>\n",
       "    <tr>\n",
       "      <th>2</th>\n",
       "      <td>731665</td>\n",
       "      <td>1695778565</td>\n",
       "      <td>1644.61</td>\n",
       "      <td>11167</td>\n",
       "      <td>Google Pay</td>\n",
       "    </tr>\n",
       "    <tr>\n",
       "      <th>3</th>\n",
       "      <td>330716</td>\n",
       "      <td>1681465168</td>\n",
       "      <td>923.89</td>\n",
       "      <td>8895</td>\n",
       "      <td>Google Pay</td>\n",
       "    </tr>\n",
       "    <tr>\n",
       "      <th>4</th>\n",
       "      <td>550474</td>\n",
       "      <td>1686770039</td>\n",
       "      <td>1192.04</td>\n",
       "      <td>12054</td>\n",
       "      <td>Credit Card</td>\n",
       "    </tr>\n",
       "  </tbody>\n",
       "</table>\n",
       "</div>"
      ],
      "text/plain": [
       "   Transaction ID   TimeStamp   Amount  Customer ID Payment Method\n",
       "0          999261  1698617917  1759.69         5655         PayPal\n",
       "1          785175  1690195733  1237.34        11738         PayPal\n",
       "2          731665  1695778565  1644.61        11167     Google Pay\n",
       "3          330716  1681465168   923.89         8895     Google Pay\n",
       "4          550474  1686770039  1192.04        12054    Credit Card"
      ]
     },
     "execution_count": 5,
     "metadata": {},
     "output_type": "execute_result"
    }
   ],
   "source": [
    "df.head(5)"
   ]
  },
  {
   "cell_type": "code",
   "execution_count": 6,
   "id": "cc55a048",
   "metadata": {},
   "outputs": [],
   "source": [
    "# Convert DataFrame to CSV file\n",
    "df.to_csv('transaction_data.csv', index=False)"
   ]
  },
  {
   "cell_type": "code",
   "execution_count": 7,
   "id": "1071d3da",
   "metadata": {},
   "outputs": [
    {
     "data": {
      "text/plain": [
       "(1500, 5)"
      ]
     },
     "execution_count": 7,
     "metadata": {},
     "output_type": "execute_result"
    }
   ],
   "source": [
    "df.shape"
   ]
  },
  {
   "cell_type": "code",
   "execution_count": 8,
   "id": "84af72fb",
   "metadata": {},
   "outputs": [
    {
     "data": {
      "text/plain": [
       "999261"
      ]
     },
     "execution_count": 8,
     "metadata": {},
     "output_type": "execute_result"
    }
   ],
   "source": [
    "df['Transaction ID'].max()"
   ]
  },
  {
   "cell_type": "code",
   "execution_count": 9,
   "id": "76693ea8",
   "metadata": {},
   "outputs": [
    {
     "data": {
      "text/plain": [
       "1999.93"
      ]
     },
     "execution_count": 9,
     "metadata": {},
     "output_type": "execute_result"
    }
   ],
   "source": [
    "df['Amount'].max()"
   ]
  },
  {
   "cell_type": "code",
   "execution_count": 11,
   "id": "a97acd1a",
   "metadata": {},
   "outputs": [
    {
     "data": {
      "text/plain": [
       "1536756.3800000001"
      ]
     },
     "execution_count": 11,
     "metadata": {},
     "output_type": "execute_result"
    }
   ],
   "source": [
    "df['Amount'].sum()"
   ]
  },
  {
   "cell_type": "code",
   "execution_count": 12,
   "id": "35a156df",
   "metadata": {},
   "outputs": [
    {
     "data": {
      "text/plain": [
       "Credit Card    397\n",
       "Debit Card     381\n",
       "Google Pay     374\n",
       "PayPal         348\n",
       "Name: Payment Method, dtype: int64"
      ]
     },
     "execution_count": 12,
     "metadata": {},
     "output_type": "execute_result"
    }
   ],
   "source": [
    "df['Payment Method'].value_counts()"
   ]
  },
  {
   "cell_type": "code",
   "execution_count": 13,
   "id": "c6a3950b",
   "metadata": {},
   "outputs": [
    {
     "data": {
      "text/plain": [
       "Transaction ID    0\n",
       "TimeStamp         0\n",
       "Amount            0\n",
       "Customer ID       0\n",
       "Payment Method    0\n",
       "dtype: int64"
      ]
     },
     "execution_count": 13,
     "metadata": {},
     "output_type": "execute_result"
    }
   ],
   "source": [
    "df.isnull().sum()"
   ]
  },
  {
   "cell_type": "code",
   "execution_count": 15,
   "id": "86fe7c1b",
   "metadata": {},
   "outputs": [
    {
     "data": {
      "text/plain": [
       "Transaction ID      int64\n",
       "TimeStamp           int64\n",
       "Amount            float64\n",
       "Customer ID         int64\n",
       "Payment Method     object\n",
       "dtype: object"
      ]
     },
     "execution_count": 15,
     "metadata": {},
     "output_type": "execute_result"
    }
   ],
   "source": [
    "df.dtypes"
   ]
  }
 ],
 "metadata": {
  "kernelspec": {
   "display_name": "Python 3 (ipykernel)",
   "language": "python",
   "name": "python3"
  },
  "language_info": {
   "codemirror_mode": {
    "name": "ipython",
    "version": 3
   },
   "file_extension": ".py",
   "mimetype": "text/x-python",
   "name": "python",
   "nbconvert_exporter": "python",
   "pygments_lexer": "ipython3",
   "version": "3.9.13"
  }
 },
 "nbformat": 4,
 "nbformat_minor": 5
}
