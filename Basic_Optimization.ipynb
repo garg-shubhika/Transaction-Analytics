{
 "cells": [
  {
   "cell_type": "code",
   "execution_count": 1,
   "id": "2b235131",
   "metadata": {},
   "outputs": [],
   "source": [
    "#Basic Optimization"
   ]
  },
  {
   "cell_type": "code",
   "execution_count": 2,
   "id": "fbdee03b",
   "metadata": {},
   "outputs": [],
   "source": [
    "import pandas as pd\n",
    "import numpy as np"
   ]
  },
  {
   "cell_type": "code",
   "execution_count": 3,
   "id": "f260b752",
   "metadata": {},
   "outputs": [],
   "source": [
    "df = pd.read_csv('transaction_data.csv')"
   ]
  },
  {
   "cell_type": "code",
   "execution_count": 4,
   "id": "e61babeb",
   "metadata": {},
   "outputs": [
    {
     "data": {
      "text/html": [
       "<div>\n",
       "<style scoped>\n",
       "    .dataframe tbody tr th:only-of-type {\n",
       "        vertical-align: middle;\n",
       "    }\n",
       "\n",
       "    .dataframe tbody tr th {\n",
       "        vertical-align: top;\n",
       "    }\n",
       "\n",
       "    .dataframe thead th {\n",
       "        text-align: right;\n",
       "    }\n",
       "</style>\n",
       "<table border=\"1\" class=\"dataframe\">\n",
       "  <thead>\n",
       "    <tr style=\"text-align: right;\">\n",
       "      <th></th>\n",
       "      <th>Transaction ID</th>\n",
       "      <th>TimeStamp</th>\n",
       "      <th>Amount</th>\n",
       "      <th>Customer ID</th>\n",
       "      <th>Payment Method</th>\n",
       "    </tr>\n",
       "  </thead>\n",
       "  <tbody>\n",
       "    <tr>\n",
       "      <th>0</th>\n",
       "      <td>999261</td>\n",
       "      <td>1698617917</td>\n",
       "      <td>1759.69</td>\n",
       "      <td>5655</td>\n",
       "      <td>PayPal</td>\n",
       "    </tr>\n",
       "    <tr>\n",
       "      <th>1</th>\n",
       "      <td>785175</td>\n",
       "      <td>1690195733</td>\n",
       "      <td>1237.34</td>\n",
       "      <td>11738</td>\n",
       "      <td>PayPal</td>\n",
       "    </tr>\n",
       "    <tr>\n",
       "      <th>2</th>\n",
       "      <td>731665</td>\n",
       "      <td>1695778565</td>\n",
       "      <td>1644.61</td>\n",
       "      <td>11167</td>\n",
       "      <td>Google Pay</td>\n",
       "    </tr>\n",
       "    <tr>\n",
       "      <th>3</th>\n",
       "      <td>330716</td>\n",
       "      <td>1681465168</td>\n",
       "      <td>923.89</td>\n",
       "      <td>8895</td>\n",
       "      <td>Google Pay</td>\n",
       "    </tr>\n",
       "    <tr>\n",
       "      <th>4</th>\n",
       "      <td>550474</td>\n",
       "      <td>1686770039</td>\n",
       "      <td>1192.04</td>\n",
       "      <td>12054</td>\n",
       "      <td>Credit Card</td>\n",
       "    </tr>\n",
       "  </tbody>\n",
       "</table>\n",
       "</div>"
      ],
      "text/plain": [
       "   Transaction ID   TimeStamp   Amount  Customer ID Payment Method\n",
       "0          999261  1698617917  1759.69         5655         PayPal\n",
       "1          785175  1690195733  1237.34        11738         PayPal\n",
       "2          731665  1695778565  1644.61        11167     Google Pay\n",
       "3          330716  1681465168   923.89         8895     Google Pay\n",
       "4          550474  1686770039  1192.04        12054    Credit Card"
      ]
     },
     "execution_count": 4,
     "metadata": {},
     "output_type": "execute_result"
    }
   ],
   "source": [
    "df.head(5)"
   ]
  },
  {
   "cell_type": "code",
   "execution_count": 8,
   "id": "ace712ee",
   "metadata": {},
   "outputs": [
    {
     "data": {
      "text/plain": [
       "Transaction ID             int64\n",
       "TimeStamp         datetime64[ns]\n",
       "Amount                   float64\n",
       "Customer ID                int64\n",
       "Payment Method            object\n",
       "dtype: object"
      ]
     },
     "execution_count": 8,
     "metadata": {},
     "output_type": "execute_result"
    }
   ],
   "source": [
    "df.dtypes"
   ]
  },
  {
   "cell_type": "code",
   "execution_count": 7,
   "id": "22ce2be7",
   "metadata": {},
   "outputs": [],
   "source": [
    "df['TimeStamp'] = pd.to_datetime(df['TimeStamp'],unit='s')"
   ]
  },
  {
   "cell_type": "code",
   "execution_count": 9,
   "id": "0427528e",
   "metadata": {},
   "outputs": [],
   "source": [
    "df.set_index('Transaction ID',inplace=True)"
   ]
  },
  {
   "cell_type": "code",
   "execution_count": 10,
   "id": "e06c026a",
   "metadata": {},
   "outputs": [],
   "source": [
    "filter_df=df[df['Payment Method']=='Credit Card']"
   ]
  },
  {
   "cell_type": "code",
   "execution_count": 11,
   "id": "f39cf8fc",
   "metadata": {},
   "outputs": [],
   "source": [
    "cache = {'CreditCardTransactions':filter_df}"
   ]
  },
  {
   "cell_type": "code",
   "execution_count": 12,
   "id": "3b8cb467",
   "metadata": {},
   "outputs": [],
   "source": [
    "cached_df = cache.get('CreditCardTransactions')"
   ]
  },
  {
   "cell_type": "code",
   "execution_count": 13,
   "id": "6a325152",
   "metadata": {},
   "outputs": [
    {
     "data": {
      "text/html": [
       "<div>\n",
       "<style scoped>\n",
       "    .dataframe tbody tr th:only-of-type {\n",
       "        vertical-align: middle;\n",
       "    }\n",
       "\n",
       "    .dataframe tbody tr th {\n",
       "        vertical-align: top;\n",
       "    }\n",
       "\n",
       "    .dataframe thead th {\n",
       "        text-align: right;\n",
       "    }\n",
       "</style>\n",
       "<table border=\"1\" class=\"dataframe\">\n",
       "  <thead>\n",
       "    <tr style=\"text-align: right;\">\n",
       "      <th></th>\n",
       "      <th>TimeStamp</th>\n",
       "      <th>Amount</th>\n",
       "      <th>Customer ID</th>\n",
       "      <th>Payment Method</th>\n",
       "    </tr>\n",
       "    <tr>\n",
       "      <th>Transaction ID</th>\n",
       "      <th></th>\n",
       "      <th></th>\n",
       "      <th></th>\n",
       "      <th></th>\n",
       "    </tr>\n",
       "  </thead>\n",
       "  <tbody>\n",
       "    <tr>\n",
       "      <th>550474</th>\n",
       "      <td>2023-06-14 19:13:59</td>\n",
       "      <td>1192.04</td>\n",
       "      <td>12054</td>\n",
       "      <td>Credit Card</td>\n",
       "    </tr>\n",
       "    <tr>\n",
       "      <th>470966</th>\n",
       "      <td>2023-10-27 13:25:49</td>\n",
       "      <td>219.55</td>\n",
       "      <td>9132</td>\n",
       "      <td>Credit Card</td>\n",
       "    </tr>\n",
       "    <tr>\n",
       "      <th>339947</th>\n",
       "      <td>2023-05-16 08:00:39</td>\n",
       "      <td>1850.94</td>\n",
       "      <td>8925</td>\n",
       "      <td>Credit Card</td>\n",
       "    </tr>\n",
       "    <tr>\n",
       "      <th>750640</th>\n",
       "      <td>2023-12-22 18:50:36</td>\n",
       "      <td>786.57</td>\n",
       "      <td>12683</td>\n",
       "      <td>Credit Card</td>\n",
       "    </tr>\n",
       "    <tr>\n",
       "      <th>442632</th>\n",
       "      <td>2023-08-25 13:22:32</td>\n",
       "      <td>825.77</td>\n",
       "      <td>9421</td>\n",
       "      <td>Credit Card</td>\n",
       "    </tr>\n",
       "    <tr>\n",
       "      <th>...</th>\n",
       "      <td>...</td>\n",
       "      <td>...</td>\n",
       "      <td>...</td>\n",
       "      <td>...</td>\n",
       "    </tr>\n",
       "    <tr>\n",
       "      <th>108511</th>\n",
       "      <td>2023-02-19 22:56:11</td>\n",
       "      <td>1117.50</td>\n",
       "      <td>10392</td>\n",
       "      <td>Credit Card</td>\n",
       "    </tr>\n",
       "    <tr>\n",
       "      <th>592605</th>\n",
       "      <td>2024-02-06 04:47:02</td>\n",
       "      <td>1992.29</td>\n",
       "      <td>9685</td>\n",
       "      <td>Credit Card</td>\n",
       "    </tr>\n",
       "    <tr>\n",
       "      <th>220496</th>\n",
       "      <td>2023-08-18 03:10:04</td>\n",
       "      <td>743.67</td>\n",
       "      <td>6972</td>\n",
       "      <td>Credit Card</td>\n",
       "    </tr>\n",
       "    <tr>\n",
       "      <th>661706</th>\n",
       "      <td>2023-03-12 00:09:01</td>\n",
       "      <td>911.95</td>\n",
       "      <td>13573</td>\n",
       "      <td>Credit Card</td>\n",
       "    </tr>\n",
       "    <tr>\n",
       "      <th>589796</th>\n",
       "      <td>2023-12-25 08:50:49</td>\n",
       "      <td>185.97</td>\n",
       "      <td>11771</td>\n",
       "      <td>Credit Card</td>\n",
       "    </tr>\n",
       "  </tbody>\n",
       "</table>\n",
       "<p>397 rows × 4 columns</p>\n",
       "</div>"
      ],
      "text/plain": [
       "                         TimeStamp   Amount  Customer ID Payment Method\n",
       "Transaction ID                                                         \n",
       "550474         2023-06-14 19:13:59  1192.04        12054    Credit Card\n",
       "470966         2023-10-27 13:25:49   219.55         9132    Credit Card\n",
       "339947         2023-05-16 08:00:39  1850.94         8925    Credit Card\n",
       "750640         2023-12-22 18:50:36   786.57        12683    Credit Card\n",
       "442632         2023-08-25 13:22:32   825.77         9421    Credit Card\n",
       "...                            ...      ...          ...            ...\n",
       "108511         2023-02-19 22:56:11  1117.50        10392    Credit Card\n",
       "592605         2024-02-06 04:47:02  1992.29         9685    Credit Card\n",
       "220496         2023-08-18 03:10:04   743.67         6972    Credit Card\n",
       "661706         2023-03-12 00:09:01   911.95        13573    Credit Card\n",
       "589796         2023-12-25 08:50:49   185.97        11771    Credit Card\n",
       "\n",
       "[397 rows x 4 columns]"
      ]
     },
     "execution_count": 13,
     "metadata": {},
     "output_type": "execute_result"
    }
   ],
   "source": [
    "cached_df"
   ]
  },
  {
   "cell_type": "code",
   "execution_count": 14,
   "id": "fd146de9",
   "metadata": {},
   "outputs": [],
   "source": [
    "#Index the 'Transaction ID' column to optimize data retrieval based on this key.\n",
    "#Filter the DataFrame to retrieve transactions made with the 'Credit Card' payment method efficiently.\n",
    "#Cache the filtered DataFrame in memory for future access. \n",
    "#Retrieve the filtered data from the cache."
   ]
  }
 ],
 "metadata": {
  "kernelspec": {
   "display_name": "Python 3 (ipykernel)",
   "language": "python",
   "name": "python3"
  },
  "language_info": {
   "codemirror_mode": {
    "name": "ipython",
    "version": 3
   },
   "file_extension": ".py",
   "mimetype": "text/x-python",
   "name": "python",
   "nbconvert_exporter": "python",
   "pygments_lexer": "ipython3",
   "version": "3.9.13"
  }
 },
 "nbformat": 4,
 "nbformat_minor": 5
}
